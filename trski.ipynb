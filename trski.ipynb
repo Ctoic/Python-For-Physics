{
 "cells": [
  {
   "cell_type": "code",
   "execution_count": 1,
   "metadata": {},
   "outputs": [
    {
     "ename": "ModuleNotFoundError",
     "evalue": "No module named 'vpython'",
     "output_type": "error",
     "traceback": [
      "\u001b[0;31m---------------------------------------------------------------------------\u001b[0m",
      "\u001b[0;31mModuleNotFoundError\u001b[0m                       Traceback (most recent call last)",
      "Cell \u001b[0;32mIn[1], line 1\u001b[0m\n\u001b[0;32m----> 1\u001b[0m \u001b[38;5;28;01mfrom\u001b[39;00m\u001b[38;5;250m \u001b[39m\u001b[38;5;21;01mvpython\u001b[39;00m\u001b[38;5;250m \u001b[39m\u001b[38;5;28;01mimport\u001b[39;00m \u001b[38;5;241m*\u001b[39m\n\u001b[1;32m      3\u001b[0m \u001b[38;5;66;03m# Create a sphere\u001b[39;00m\n\u001b[1;32m      4\u001b[0m sphere(radius\u001b[38;5;241m=\u001b[39m\u001b[38;5;241m1\u001b[39m, color\u001b[38;5;241m=\u001b[39mcolor\u001b[38;5;241m.\u001b[39mblue)\n",
      "\u001b[0;31mModuleNotFoundError\u001b[0m: No module named 'vpython'"
     ]
    }
   ],
   "source": [
    "from vpython import *\n",
    "\n",
    "# Create a sphere\n",
    "sphere(radius=1, color=color.blue)\n",
    "\n",
    "# Add a transformation (e.g., scaling)\n",
    "def scale_sphere():\n",
    "    for i in range(100):\n",
    "        rate(25)  # Limit the animation speed\n",
    "        sphere.radius *= 1.01  # Scale the sphere\n",
    "\n",
    "# Run the animation\n",
    "scale_sphere()"
   ]
  },
  {
   "cell_type": "code",
   "execution_count": null,
   "metadata": {},
   "outputs": [],
   "source": []
  }
 ],
 "metadata": {
  "kernelspec": {
   "display_name": "venv",
   "language": "python",
   "name": "python3"
  },
  "language_info": {
   "codemirror_mode": {
    "name": "ipython",
    "version": 3
   },
   "file_extension": ".py",
   "mimetype": "text/x-python",
   "name": "python",
   "nbconvert_exporter": "python",
   "pygments_lexer": "ipython3",
   "version": "3.12.3"
  }
 },
 "nbformat": 4,
 "nbformat_minor": 2
}
